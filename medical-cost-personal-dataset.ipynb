{
 "cells": [
  {
   "cell_type": "code",
   "execution_count": 1,
   "id": "7ce800b4",
   "metadata": {
    "_cell_guid": "b1076dfc-b9ad-4769-8c92-a6c4dae69d19",
    "_uuid": "8f2839f25d086af736a60e9eeb907d3b93b6e0e5",
    "execution": {
     "iopub.execute_input": "2025-03-15T07:25:25.628728Z",
     "iopub.status.busy": "2025-03-15T07:25:25.628254Z",
     "iopub.status.idle": "2025-03-15T07:25:26.652289Z",
     "shell.execute_reply": "2025-03-15T07:25:26.651067Z"
    },
    "papermill": {
     "duration": 1.030845,
     "end_time": "2025-03-15T07:25:26.654131",
     "exception": false,
     "start_time": "2025-03-15T07:25:25.623286",
     "status": "completed"
    },
    "tags": []
   },
   "outputs": [
    {
     "name": "stdout",
     "output_type": "stream",
     "text": [
      "/kaggle/input/insurance/insurance.csv\n"
     ]
    }
   ],
   "source": [
    "# This Python 3 environment comes with many helpful analytics libraries installed\n",
    "# It is defined by the kaggle/python Docker image: https://github.com/kaggle/docker-python\n",
    "# For example, here's several helpful packages to load\n",
    "\n",
    "import numpy as np # linear algebra\n",
    "import pandas as pd # data processing, CSV file I/O (e.g. pd.read_csv)\n",
    "\n",
    "# Input data files are available in the read-only \"../input/\" directory\n",
    "# For example, running this (by clicking run or pressing Shift+Enter) will list all files under the input directory\n",
    "\n",
    "import os\n",
    "for dirname, _, filenames in os.walk('/kaggle/input'):\n",
    "    for filename in filenames:\n",
    "        print(os.path.join(dirname, filename))\n",
    "\n",
    "# You can write up to 20GB to the current directory (/kaggle/working/) that gets preserved as output when you create a version using \"Save & Run All\" \n",
    "# You can also write temporary files to /kaggle/temp/, but they won't be saved outside of the current session"
   ]
  },
  {
   "cell_type": "code",
   "execution_count": 2,
   "id": "6e752517",
   "metadata": {
    "execution": {
     "iopub.execute_input": "2025-03-15T07:25:26.662743Z",
     "iopub.status.busy": "2025-03-15T07:25:26.662250Z",
     "iopub.status.idle": "2025-03-15T07:25:26.729755Z",
     "shell.execute_reply": "2025-03-15T07:25:26.728403Z"
    },
    "papermill": {
     "duration": 0.073389,
     "end_time": "2025-03-15T07:25:26.731563",
     "exception": false,
     "start_time": "2025-03-15T07:25:26.658174",
     "status": "completed"
    },
    "tags": []
   },
   "outputs": [
    {
     "name": "stdout",
     "output_type": "stream",
     "text": [
      "<class 'pandas.core.frame.DataFrame'>\n",
      "RangeIndex: 1338 entries, 0 to 1337\n",
      "Data columns (total 7 columns):\n",
      " #   Column    Non-Null Count  Dtype  \n",
      "---  ------    --------------  -----  \n",
      " 0   age       1338 non-null   int64  \n",
      " 1   sex       1338 non-null   object \n",
      " 2   bmi       1338 non-null   float64\n",
      " 3   children  1338 non-null   int64  \n",
      " 4   smoker    1338 non-null   object \n",
      " 5   region    1338 non-null   object \n",
      " 6   charges   1338 non-null   float64\n",
      "dtypes: float64(2), int64(2), object(3)\n",
      "memory usage: 73.3+ KB\n"
     ]
    },
    {
     "data": {
      "text/plain": [
       "(None,\n",
       "    age     sex     bmi  children smoker     region      charges\n",
       " 0   19  female  27.900         0    yes  southwest  16884.92400\n",
       " 1   18    male  33.770         1     no  southeast   1725.55230\n",
       " 2   28    male  33.000         3     no  southeast   4449.46200\n",
       " 3   33    male  22.705         0     no  northwest  21984.47061\n",
       " 4   32    male  28.880         0     no  northwest   3866.85520)"
      ]
     },
     "execution_count": 2,
     "metadata": {},
     "output_type": "execute_result"
    }
   ],
   "source": [
    "# Load the dataset\n",
    "file_path = \"/kaggle/input/insurance/insurance.csv\"\n",
    "df = pd.read_csv(file_path)\n",
    "\n",
    "# Display basic info to confirm successful loading\n",
    "df.info(), df.head()"
   ]
  },
  {
   "cell_type": "code",
   "execution_count": 3,
   "id": "a577b77a",
   "metadata": {
    "execution": {
     "iopub.execute_input": "2025-03-15T07:25:26.739443Z",
     "iopub.status.busy": "2025-03-15T07:25:26.739079Z",
     "iopub.status.idle": "2025-03-15T07:25:29.394505Z",
     "shell.execute_reply": "2025-03-15T07:25:29.393353Z"
    },
    "papermill": {
     "duration": 2.661564,
     "end_time": "2025-03-15T07:25:29.396618",
     "exception": false,
     "start_time": "2025-03-15T07:25:26.735054",
     "status": "completed"
    },
    "tags": []
   },
   "outputs": [],
   "source": [
    "import numpy as np\n",
    "import pandas as pd\n",
    "import matplotlib.pyplot as plt\n",
    "import seaborn as sns\n",
    "from sklearn.model_selection import train_test_split\n",
    "from sklearn.preprocessing import StandardScaler, OneHotEncoder\n",
    "from sklearn.svm import SVR\n",
    "from sklearn.tree import DecisionTreeRegressor\n",
    "from sklearn.ensemble import RandomForestRegressor\n",
    "from sklearn.metrics import mean_squared_error, mean_absolute_error, r2_score\n",
    "from sklearn.compose import ColumnTransformer\n",
    "from sklearn.pipeline import Pipeline\n"
   ]
  },
  {
   "cell_type": "code",
   "execution_count": 4,
   "id": "a53b6014",
   "metadata": {
    "execution": {
     "iopub.execute_input": "2025-03-15T07:25:29.405374Z",
     "iopub.status.busy": "2025-03-15T07:25:29.404767Z",
     "iopub.status.idle": "2025-03-15T07:25:29.845081Z",
     "shell.execute_reply": "2025-03-15T07:25:29.843855Z"
    },
    "papermill": {
     "duration": 0.446717,
     "end_time": "2025-03-15T07:25:29.847050",
     "exception": false,
     "start_time": "2025-03-15T07:25:29.400333",
     "status": "completed"
    },
    "tags": []
   },
   "outputs": [
    {
     "name": "stdout",
     "output_type": "stream",
     "text": [
      "<class 'pandas.core.frame.DataFrame'>\n",
      "RangeIndex: 1338 entries, 0 to 1337\n",
      "Data columns (total 7 columns):\n",
      " #   Column    Non-Null Count  Dtype  \n",
      "---  ------    --------------  -----  \n",
      " 0   age       1338 non-null   int64  \n",
      " 1   sex       1338 non-null   object \n",
      " 2   bmi       1338 non-null   float64\n",
      " 3   children  1338 non-null   int64  \n",
      " 4   smoker    1338 non-null   object \n",
      " 5   region    1338 non-null   object \n",
      " 6   charges   1338 non-null   float64\n",
      "dtypes: float64(2), int64(2), object(3)\n",
      "memory usage: 73.3+ KB\n"
     ]
    },
    {
     "name": "stderr",
     "output_type": "stream",
     "text": [
      "/usr/local/lib/python3.10/dist-packages/seaborn/_oldcore.py:1119: FutureWarning: use_inf_as_na option is deprecated and will be removed in a future version. Convert inf values to NaN before operating instead.\n",
      "  with pd.option_context('mode.use_inf_as_na', True):\n"
     ]
    },
    {
     "data": {
      "image/png": "[encoded data removed]",
      "text/plain": [
       "<Figure size 640x480 with 1 Axes>"
      ]
     },
     "metadata": {},
     "output_type": "display_data"
    }
   ],
   "source": [
    "# Display basic information\n",
    "df.info()\n",
    "\n",
    "# Check for missing values\n",
    "df.isnull().sum()\n",
    "\n",
    "# Summary statistics\n",
    "df.describe()\n",
    "\n",
    "# Visualize distribution of target variable\n",
    "sns.histplot(df[\"charges\"], bins=30, kde=True)\n",
    "plt.title(\"Distribution of Insurance Charges\")\n",
    "plt.show()\n"
   ]
  },
  {
   "cell_type": "code",
   "execution_count": 5,
   "id": "1bb0ea02",
   "metadata": {
    "execution": {
     "iopub.execute_input": "2025-03-15T07:25:29.857152Z",
     "iopub.status.busy": "2025-03-15T07:25:29.856737Z",
     "iopub.status.idle": "2025-03-15T07:25:29.871320Z",
     "shell.execute_reply": "2025-03-15T07:25:29.870248Z"
    },
    "papermill": {
     "duration": 0.0215,
     "end_time": "2025-03-15T07:25:29.872869",
     "exception": false,
     "start_time": "2025-03-15T07:25:29.851369",
     "status": "completed"
    },
    "tags": []
   },
   "outputs": [
    {
     "data": {
      "text/plain": [
       "((1070, 6), (268, 6), (1070,), (268,))"
      ]
     },
     "execution_count": 5,
     "metadata": {},
     "output_type": "execute_result"
    }
   ],
   "source": [
    "# Define categorical and numerical features\n",
    "categorical_features = [\"sex\", \"smoker\", \"region\"]\n",
    "numerical_features = [\"age\", \"bmi\", \"children\"]\n",
    "\n",
    "# Define preprocessing pipeline\n",
    "preprocessor = ColumnTransformer(\n",
    "    transformers=[\n",
    "        (\"num\", StandardScaler(), numerical_features),\n",
    "        (\"cat\", OneHotEncoder(drop=\"first\"), categorical_features),\n",
    "    ]\n",
    ")\n",
    "\n",
    "# Define features and target variable\n",
    "X = df.drop(columns=[\"charges\"])\n",
    "y = df[\"charges\"]\n",
    "\n",
    "# Split dataset (80% train, 20% test)\n",
    "X_train, X_test, y_train, y_test = train_test_split(X, y, test_size=0.2, random_state=42)\n",
    "\n",
    "# Print dataset shapes\n",
    "X_train.shape, X_test.shape, y_train.shape, y_test.shape\n"
   ]
  },
  {
   "cell_type": "code",
   "execution_count": 6,
   "id": "f4720116",
   "metadata": {
    "execution": {
     "iopub.execute_input": "2025-03-15T07:25:29.883313Z",
     "iopub.status.busy": "2025-03-15T07:25:29.882878Z",
     "iopub.status.idle": "2025-03-15T07:25:29.983189Z",
     "shell.execute_reply": "2025-03-15T07:25:29.982034Z"
    },
    "papermill": {
     "duration": 0.107909,
     "end_time": "2025-03-15T07:25:29.985307",
     "exception": false,
     "start_time": "2025-03-15T07:25:29.877398",
     "status": "completed"
    },
    "tags": []
   },
   "outputs": [],
   "source": [
    "svm_pipeline = Pipeline([\n",
    "    (\"preprocessor\", preprocessor),\n",
    "    (\"regressor\", SVR(kernel=\"rbf\"))\n",
    "])\n",
    "\n",
    "# Train SVM model\n",
    "svm_pipeline.fit(X_train, y_train)\n",
    "\n",
    "# Predict on test set\n",
    "y_pred_svm = svm_pipeline.predict(X_test)\n"
   ]
  },
  {
   "cell_type": "code",
   "execution_count": 7,
   "id": "88c408c2",
   "metadata": {
    "execution": {
     "iopub.execute_input": "2025-03-15T07:25:29.995469Z",
     "iopub.status.busy": "2025-03-15T07:25:29.995090Z",
     "iopub.status.idle": "2025-03-15T07:25:30.019754Z",
     "shell.execute_reply": "2025-03-15T07:25:30.018648Z"
    },
    "papermill": {
     "duration": 0.032179,
     "end_time": "2025-03-15T07:25:30.021988",
     "exception": false,
     "start_time": "2025-03-15T07:25:29.989809",
     "status": "completed"
    },
    "tags": []
   },
   "outputs": [],
   "source": [
    "dt_pipeline = Pipeline([\n",
    "    (\"preprocessor\", preprocessor),\n",
    "    (\"regressor\", DecisionTreeRegressor(random_state=42))\n",
    "])\n",
    "\n",
    "# Train Decision Tree model\n",
    "dt_pipeline.fit(X_train, y_train)\n",
    "\n",
    "# Predict on test set\n",
    "y_pred_dt = dt_pipeline.predict(X_test)\n"
   ]
  },
  {
   "cell_type": "code",
   "execution_count": 8,
   "id": "5fbc0db4",
   "metadata": {
    "execution": {
     "iopub.execute_input": "2025-03-15T07:25:30.031875Z",
     "iopub.status.busy": "2025-03-15T07:25:30.031509Z",
     "iopub.status.idle": "2025-03-15T07:25:30.405729Z",
     "shell.execute_reply": "2025-03-15T07:25:30.404491Z"
    },
    "papermill": {
     "duration": 0.381433,
     "end_time": "2025-03-15T07:25:30.407797",
     "exception": false,
     "start_time": "2025-03-15T07:25:30.026364",
     "status": "completed"
    },
    "tags": []
   },
   "outputs": [],
   "source": [
    "rf_pipeline = Pipeline([\n",
    "    (\"preprocessor\", preprocessor),\n",
    "    (\"regressor\", RandomForestRegressor(n_estimators=100, random_state=42))\n",
    "])\n",
    "\n",
    "# Train Random Forest model\n",
    "rf_pipeline.fit(X_train, y_train)\n",
    "\n",
    "# Predict on test set\n",
    "y_pred_rf = rf_pipeline.predict(X_test)\n"
   ]
  },
  {
   "cell_type": "code",
   "execution_count": 9,
   "id": "9f65a31b",
   "metadata": {
    "execution": {
     "iopub.execute_input": "2025-03-15T07:25:30.418107Z",
     "iopub.status.busy": "2025-03-15T07:25:30.417681Z",
     "iopub.status.idle": "2025-03-15T07:25:30.433439Z",
     "shell.execute_reply": "2025-03-15T07:25:30.431716Z"
    },
    "papermill": {
     "duration": 0.023135,
     "end_time": "2025-03-15T07:25:30.435520",
     "exception": false,
     "start_time": "2025-03-15T07:25:30.412385",
     "status": "completed"
    },
    "tags": []
   },
   "outputs": [
    {
     "name": "stdout",
     "output_type": "stream",
     "text": [
      "Support Vector Machine Performance:\n",
      "Mean Squared Error (MSE): 166348088.6339\n",
      "Mean Absolute Error (MAE): 8606.5923\n",
      "R² Score: -0.0715\n",
      "----------------------------------------\n",
      "Decision Tree Performance:\n",
      "Mean Squared Error (MSE): 40795333.4541\n",
      "Mean Absolute Error (MAE): 3114.1529\n",
      "R² Score: 0.7372\n",
      "----------------------------------------\n",
      "Random Forest Performance:\n",
      "Mean Squared Error (MSE): 20864569.5134\n",
      "Mean Absolute Error (MAE): 2543.9758\n",
      "R² Score: 0.8656\n",
      "----------------------------------------\n"
     ]
    }
   ],
   "source": [
    "def evaluate(y_true, y_pred, model_name):\n",
    "    mse = mean_squared_error(y_true, y_pred)\n",
    "    mae = mean_absolute_error(y_true, y_pred)\n",
    "    r2 = r2_score(y_true, y_pred)\n",
    "    \n",
    "    print(f\"{model_name} Performance:\")\n",
    "    print(f\"Mean Squared Error (MSE): {mse:.4f}\")\n",
    "    print(f\"Mean Absolute Error (MAE): {mae:.4f}\")\n",
    "    print(f\"R² Score: {r2:.4f}\")\n",
    "    print(\"-\" * 40)\n",
    "    \n",
    "    return {\"Model\": model_name, \"MSE\": mse, \"MAE\": mae, \"R² Score\": r2}\n",
    "\n",
    "# Evaluate all models\n",
    "results = []\n",
    "results.append(evaluate(y_test, y_pred_svm, \"Support Vector Machine\"))\n",
    "results.append(evaluate(y_test, y_pred_dt, \"Decision Tree\"))\n",
    "results.append(evaluate(y_test, y_pred_rf, \"Random Forest\"))\n"
   ]
  },
  {
   "cell_type": "code",
   "execution_count": 10,
   "id": "d87148c5",
   "metadata": {
    "execution": {
     "iopub.execute_input": "2025-03-15T07:25:30.446596Z",
     "iopub.status.busy": "2025-03-15T07:25:30.446084Z",
     "iopub.status.idle": "2025-03-15T07:25:30.465061Z",
     "shell.execute_reply": "2025-03-15T07:25:30.463840Z"
    },
    "papermill": {
     "duration": 0.026736,
     "end_time": "2025-03-15T07:25:30.466951",
     "exception": false,
     "start_time": "2025-03-15T07:25:30.440215",
     "status": "completed"
    },
    "tags": []
   },
   "outputs": [
    {
     "data": {
      "text/html": [
       "<div>\n",
       "<style scoped>\n",
       "    .dataframe tbody tr th:only-of-type {\n",
       "        vertical-align: middle;\n",
       "    }\n",
       "\n",
       "    .dataframe tbody tr th {\n",
       "        vertical-align: top;\n",
       "    }\n",
       "\n",
       "    .dataframe thead th {\n",
       "        text-align: right;\n",
       "    }\n",
       "</style>\n",
       "<table border=\"1\" class=\"dataframe\">\n",
       "  <thead>\n",
       "    <tr style=\"text-align: right;\">\n",
       "      <th></th>\n",
       "      <th>Model</th>\n",
       "      <th>MSE</th>\n",
       "      <th>MAE</th>\n",
       "      <th>R² Score</th>\n",
       "    </tr>\n",
       "  </thead>\n",
       "  <tbody>\n",
       "    <tr>\n",
       "      <th>0</th>\n",
       "      <td>Support Vector Machine</td>\n",
       "      <td>1.663481e+08</td>\n",
       "      <td>8606.592261</td>\n",
       "      <td>-0.071494</td>\n",
       "    </tr>\n",
       "    <tr>\n",
       "      <th>1</th>\n",
       "      <td>Decision Tree</td>\n",
       "      <td>4.079533e+07</td>\n",
       "      <td>3114.152909</td>\n",
       "      <td>0.737226</td>\n",
       "    </tr>\n",
       "    <tr>\n",
       "      <th>2</th>\n",
       "      <td>Random Forest</td>\n",
       "      <td>2.086457e+07</td>\n",
       "      <td>2543.975825</td>\n",
       "      <td>0.865606</td>\n",
       "    </tr>\n",
       "  </tbody>\n",
       "</table>\n",
       "</div>"
      ],
      "text/plain": [
       "                    Model           MSE          MAE  R² Score\n",
       "0  Support Vector Machine  1.663481e+08  8606.592261 -0.071494\n",
       "1           Decision Tree  4.079533e+07  3114.152909  0.737226\n",
       "2           Random Forest  2.086457e+07  2543.975825  0.865606"
      ]
     },
     "execution_count": 10,
     "metadata": {},
     "output_type": "execute_result"
    }
   ],
   "source": [
    "# Convert results to DataFrame\n",
    "results_df = pd.DataFrame(results)\n",
    "\n",
    "# Display results\n",
    "results_df\n"
   ]
  },
  {
   "cell_type": "code",
   "execution_count": 11,
   "id": "5e6e0963",
   "metadata": {
    "execution": {
     "iopub.execute_input": "2025-03-15T07:25:30.477845Z",
     "iopub.status.busy": "2025-03-15T07:25:30.477458Z",
     "iopub.status.idle": "2025-03-15T07:25:30.768206Z",
     "shell.execute_reply": "2025-03-15T07:25:30.767027Z"
    },
    "papermill": {
     "duration": 0.298071,
     "end_time": "2025-03-15T07:25:30.769975",
     "exception": false,
     "start_time": "2025-03-15T07:25:30.471904",
     "status": "completed"
    },
    "tags": []
   },
   "outputs": [
    {
     "data": {
      "image/png": "[encoded data removed]",
      "text/plain": [
       "<Figure size 1000x500 with 1 Axes>"
      ]
     },
     "metadata": {},
     "output_type": "display_data"
    }
   ],
   "source": [
    "# Plot comparison\n",
    "plt.figure(figsize=(10, 5))\n",
    "sns.barplot(x=results_df[\"Model\"], y=results_df[\"MSE\"], palette=\"viridis\")\n",
    "plt.title(\"Model Comparison - Mean Squared Error\")\n",
    "plt.ylabel(\"MSE\")\n",
    "plt.show()\n"
   ]
  }
 ],
 "metadata": {
  "kaggle": {
   "accelerator": "none",
   "dataSources": [
    {
     "datasetId": 13720,
     "sourceId": 18513,
     "sourceType": "datasetVersion"
    }
   ],
   "dockerImageVersionId": 30918,
   "isGpuEnabled": false,
   "isInternetEnabled": false,
   "language": "python",
   "sourceType": "notebook"
  },
  "kernelspec": {
   "display_name": "Python 3",
   "language": "python",
   "name": "python3"
  },
  "language_info": {
   "codemirror_mode": {
    "name": "ipython",
    "version": 3
   },
   "file_extension": ".py",
   "mimetype": "text/x-python",
   "name": "python",
   "nbconvert_exporter": "python",
   "pygments_lexer": "ipython3",
   "version": "3.10.12"
  },
  "papermill": {
   "default_parameters": {},
   "duration": 9.473533,
   "end_time": "2025-03-15T07:25:31.596267",
   "environment_variables": {},
   "exception": null,
   "input_path": "__notebook__.ipynb",
   "output_path": "__notebook__.ipynb",
   "parameters": {},
   "start_time": "2025-03-15T07:25:22.122734",
   "version": "2.6.0"
  }
 },
 "nbformat": 4,
 "nbformat_minor": 5
}
