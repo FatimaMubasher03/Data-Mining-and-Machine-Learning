{
 "cells": [
  {
   "cell_type": "code",
   "execution_count": 1,
   "id": "6931e661",
   "metadata": {
    "_cell_guid": "b1076dfc-b9ad-4769-8c92-a6c4dae69d19",
    "_uuid": "8f2839f25d086af736a60e9eeb907d3b93b6e0e5",
    "execution": {
     "iopub.execute_input": "2025-03-18T17:32:12.801880Z",
     "iopub.status.busy": "2025-03-18T17:32:12.801477Z",
     "iopub.status.idle": "2025-03-18T17:32:13.713255Z",
     "shell.execute_reply": "2025-03-18T17:32:13.711929Z"
    },
    "papermill": {
     "duration": 0.917569,
     "end_time": "2025-03-18T17:32:13.715032",
     "exception": false,
     "start_time": "2025-03-18T17:32:12.797463",
     "status": "completed"
    },
    "tags": []
   },
   "outputs": [
    {
     "name": "stdout",
     "output_type": "stream",
     "text": [
      "/kaggle/input/titanic/train_and_test2.csv\n"
     ]
    }
   ],
   "source": [
    "# This Python 3 environment comes with many helpful analytics libraries installed\n",
    "# It is defined by the kaggle/python Docker image: https://github.com/kaggle/docker-python\n",
    "# For example, here's several helpful packages to load\n",
    "\n",
    "import numpy as np # linear algebra\n",
    "import pandas as pd # data processing, CSV file I/O (e.g. pd.read_csv)\n",
    "\n",
    "# Input data files are available in the read-only \"../input/\" directory\n",
    "# For example, running this (by clicking run or pressing Shift+Enter) will list all files under the input directory\n",
    "\n",
    "import os\n",
    "for dirname, _, filenames in os.walk('/kaggle/input'):\n",
    "    for filename in filenames:\n",
    "        print(os.path.join(dirname, filename))\n",
    "\n",
    "# You can write up to 20GB to the current directory (/kaggle/working/) that gets preserved as output when you create a version using \"Save & Run All\" \n",
    "# You can also write temporary files to /kaggle/temp/, but they won't be saved outside of the current session"
   ]
  },
  {
   "cell_type": "markdown",
   "id": "38b2c1ba",
   "metadata": {
    "papermill": {
     "duration": 0.00198,
     "end_time": "2025-03-18T17:32:13.719772",
     "exception": false,
     "start_time": "2025-03-18T17:32:13.717792",
     "status": "completed"
    },
    "tags": []
   },
   "source": [
    "# Pre-Processing\n"
   ]
  },
  {
   "cell_type": "code",
   "execution_count": 2,
   "id": "e032af35",
   "metadata": {
    "execution": {
     "iopub.execute_input": "2025-03-18T17:32:13.725430Z",
     "iopub.status.busy": "2025-03-18T17:32:13.724881Z",
     "iopub.status.idle": "2025-03-18T17:32:13.789665Z",
     "shell.execute_reply": "2025-03-18T17:32:13.788572Z"
    },
    "papermill": {
     "duration": 0.06931,
     "end_time": "2025-03-18T17:32:13.791218",
     "exception": false,
     "start_time": "2025-03-18T17:32:13.721908",
     "status": "completed"
    },
    "tags": []
   },
   "outputs": [
    {
     "name": "stdout",
     "output_type": "stream",
     "text": [
      "<class 'pandas.core.frame.DataFrame'>\n",
      "RangeIndex: 1309 entries, 0 to 1308\n",
      "Data columns (total 28 columns):\n",
      " #   Column       Non-Null Count  Dtype  \n",
      "---  ------       --------------  -----  \n",
      " 0   Passengerid  1309 non-null   int64  \n",
      " 1   Age          1309 non-null   float64\n",
      " 2   Fare         1309 non-null   float64\n",
      " 3   Sex          1309 non-null   int64  \n",
      " 4   sibsp        1309 non-null   int64  \n",
      " 5   zero         1309 non-null   int64  \n",
      " 6   zero.1       1309 non-null   int64  \n",
      " 7   zero.2       1309 non-null   int64  \n",
      " 8   zero.3       1309 non-null   int64  \n",
      " 9   zero.4       1309 non-null   int64  \n",
      " 10  zero.5       1309 non-null   int64  \n",
      " 11  zero.6       1309 non-null   int64  \n",
      " 12  Parch        1309 non-null   int64  \n",
      " 13  zero.7       1309 non-null   int64  \n",
      " 14  zero.8       1309 non-null   int64  \n",
      " 15  zero.9       1309 non-null   int64  \n",
      " 16  zero.10      1309 non-null   int64  \n",
      " 17  zero.11      1309 non-null   int64  \n",
      " 18  zero.12      1309 non-null   int64  \n",
      " 19  zero.13      1309 non-null   int64  \n",
      " 20  zero.14      1309 non-null   int64  \n",
      " 21  Pclass       1309 non-null   int64  \n",
      " 22  zero.15      1309 non-null   int64  \n",
      " 23  zero.16      1309 non-null   int64  \n",
      " 24  Embarked     1307 non-null   float64\n",
      " 25  zero.17      1309 non-null   int64  \n",
      " 26  zero.18      1309 non-null   int64  \n",
      " 27  2urvived     1309 non-null   int64  \n",
      "dtypes: float64(3), int64(25)\n",
      "memory usage: 286.5 KB\n"
     ]
    },
    {
     "data": {
      "text/plain": [
       "(None,\n",
       "    Passengerid   Age     Fare  Sex  sibsp  zero  zero.1  zero.2  zero.3  \\\n",
       " 0            1  22.0   7.2500    0      1     0       0       0       0   \n",
       " 1            2  38.0  71.2833    1      1     0       0       0       0   \n",
       " 2            3  26.0   7.9250    1      0     0       0       0       0   \n",
       " 3            4  35.0  53.1000    1      1     0       0       0       0   \n",
       " 4            5  35.0   8.0500    0      0     0       0       0       0   \n",
       " \n",
       "    zero.4  ...  zero.12  zero.13  zero.14  Pclass  zero.15  zero.16  Embarked  \\\n",
       " 0       0  ...        0        0        0       3        0        0       2.0   \n",
       " 1       0  ...        0        0        0       1        0        0       0.0   \n",
       " 2       0  ...        0        0        0       3        0        0       2.0   \n",
       " 3       0  ...        0        0        0       1        0        0       2.0   \n",
       " 4       0  ...        0        0        0       3        0        0       2.0   \n",
       " \n",
       "    zero.17  zero.18  2urvived  \n",
       " 0        0        0         0  \n",
       " 1        0        0         1  \n",
       " 2        0        0         1  \n",
       " 3        0        0         1  \n",
       " 4        0        0         0  \n",
       " \n",
       " [5 rows x 28 columns])"
      ]
     },
     "execution_count": 2,
     "metadata": {},
     "output_type": "execute_result"
    }
   ],
   "source": [
    "import pandas as pd\n",
    "\n",
    "# Load the dataset\n",
    "file_path = \"/kaggle/input/titanic/train_and_test2.csv\"\n",
    "df = pd.read_csv(file_path)\n",
    "\n",
    "# Display basic information and first few rows\n",
    "df.info(), df.head()\n"
   ]
  },
  {
   "cell_type": "code",
   "execution_count": 3,
   "id": "fcbb73fa",
   "metadata": {
    "execution": {
     "iopub.execute_input": "2025-03-18T17:32:13.797127Z",
     "iopub.status.busy": "2025-03-18T17:32:13.796742Z",
     "iopub.status.idle": "2025-03-18T17:32:13.817925Z",
     "shell.execute_reply": "2025-03-18T17:32:13.816772Z"
    },
    "papermill": {
     "duration": 0.025957,
     "end_time": "2025-03-18T17:32:13.819720",
     "exception": false,
     "start_time": "2025-03-18T17:32:13.793763",
     "status": "completed"
    },
    "tags": []
   },
   "outputs": [
    {
     "name": "stdout",
     "output_type": "stream",
     "text": [
      "<class 'pandas.core.frame.DataFrame'>\n",
      "RangeIndex: 1309 entries, 0 to 1308\n",
      "Data columns (total 8 columns):\n",
      " #   Column    Non-Null Count  Dtype  \n",
      "---  ------    --------------  -----  \n",
      " 0   Age       1309 non-null   float64\n",
      " 1   Fare      1309 non-null   float64\n",
      " 2   Sex       1309 non-null   int64  \n",
      " 3   sibsp     1309 non-null   int64  \n",
      " 4   Parch     1309 non-null   int64  \n",
      " 5   Pclass    1309 non-null   int64  \n",
      " 6   Embarked  1309 non-null   float64\n",
      " 7   Survived  1309 non-null   int64  \n",
      "dtypes: float64(3), int64(5)\n",
      "memory usage: 81.9 KB\n"
     ]
    },
    {
     "name": "stderr",
     "output_type": "stream",
     "text": [
      "<ipython-input-3-4ccbcbb1874a>:8: FutureWarning: A value is trying to be set on a copy of a DataFrame or Series through chained assignment using an inplace method.\n",
      "The behavior will change in pandas 3.0. This inplace method will never work because the intermediate object on which we are setting values always behaves as a copy.\n",
      "\n",
      "For example, when doing 'df[col].method(value, inplace=True)', try using 'df.method({col: value}, inplace=True)' or df[col] = df[col].method(value) instead, to perform the operation inplace on the original object.\n",
      "\n",
      "\n",
      "  df_cleaned[\"Embarked\"].fillna(df_cleaned[\"Embarked\"].mode()[0], inplace=True)\n"
     ]
    },
    {
     "data": {
      "text/plain": [
       "(None,\n",
       "     Age     Fare  Sex  sibsp  Parch  Pclass  Embarked  Survived\n",
       " 0  22.0   7.2500    0      1      0       3       2.0         0\n",
       " 1  38.0  71.2833    1      1      0       1       0.0         1\n",
       " 2  26.0   7.9250    1      0      0       3       2.0         1\n",
       " 3  35.0  53.1000    1      1      0       1       2.0         1\n",
       " 4  35.0   8.0500    0      0      0       3       2.0         0)"
      ]
     },
     "execution_count": 3,
     "metadata": {},
     "output_type": "execute_result"
    }
   ],
   "source": [
    "# Drop unnecessary columns\n",
    "df_cleaned = df.drop(columns=[\"Passengerid\"] + [col for col in df.columns if \"zero\" in col])\n",
    "\n",
    "# Rename the target column\n",
    "df_cleaned.rename(columns={\"2urvived\": \"Survived\"}, inplace=True)\n",
    "\n",
    "# Fill missing values in Embarked with the most common value\n",
    "df_cleaned[\"Embarked\"].fillna(df_cleaned[\"Embarked\"].mode()[0], inplace=True)\n",
    "\n",
    "# Display cleaned dataset info\n",
    "df_cleaned.info(), df_cleaned.head()\n",
    "\n"
   ]
  },
  {
   "cell_type": "markdown",
   "id": "070d8586",
   "metadata": {
    "papermill": {
     "duration": 0.002537,
     "end_time": "2025-03-18T17:32:13.825477",
     "exception": false,
     "start_time": "2025-03-18T17:32:13.822940",
     "status": "completed"
    },
    "tags": []
   },
   "source": [
    "# Applying Logistic Regression"
   ]
  },
  {
   "cell_type": "code",
   "execution_count": 4,
   "id": "4ce55763",
   "metadata": {
    "execution": {
     "iopub.execute_input": "2025-03-18T17:32:13.832109Z",
     "iopub.status.busy": "2025-03-18T17:32:13.831712Z",
     "iopub.status.idle": "2025-03-18T17:32:16.407213Z",
     "shell.execute_reply": "2025-03-18T17:32:16.406103Z"
    },
    "papermill": {
     "duration": 2.580671,
     "end_time": "2025-03-18T17:32:16.408868",
     "exception": false,
     "start_time": "2025-03-18T17:32:13.828197",
     "status": "completed"
    },
    "tags": []
   },
   "outputs": [
    {
     "data": {
      "image/png": "[encoded data removed]",
      "text/plain": [
       "<Figure size 500x400 with 2 Axes>"
      ]
     },
     "metadata": {},
     "output_type": "display_data"
    },
    {
     "data": {
      "image/png": "[encoded data removed]",
      "text/plain": [
       "<Figure size 600x500 with 1 Axes>"
      ]
     },
     "metadata": {},
     "output_type": "display_data"
    },
    {
     "data": {
      "text/plain": [
       "(0.767175572519084,\n",
       " 0.6428571428571429,\n",
       " 0.3698630136986301,\n",
       " 0.46956521739130436,\n",
       " 0.7860404435746902)"
      ]
     },
     "execution_count": 4,
     "metadata": {},
     "output_type": "execute_result"
    }
   ],
   "source": [
    "from sklearn.model_selection import train_test_split\n",
    "from sklearn.preprocessing import StandardScaler\n",
    "from sklearn.linear_model import LogisticRegression\n",
    "from sklearn.metrics import accuracy_score, precision_score, recall_score, f1_score, confusion_matrix, roc_curve, auc\n",
    "import matplotlib.pyplot as plt\n",
    "import seaborn as sns\n",
    "\n",
    "# Define features and target\n",
    "X = df_cleaned.drop(columns=[\"Survived\"])\n",
    "y = df_cleaned[\"Survived\"]\n",
    "\n",
    "# Split dataset into training (80%) and testing (20%)\n",
    "X_train, X_test, y_train, y_test = train_test_split(X, y, test_size=0.2, random_state=42)\n",
    "\n",
    "# Scale numerical features\n",
    "scaler = StandardScaler()\n",
    "X_train_scaled = scaler.fit_transform(X_train)\n",
    "X_test_scaled = scaler.transform(X_test)\n",
    "\n",
    "# Train Logistic Regression model\n",
    "model = LogisticRegression()\n",
    "model.fit(X_train_scaled, y_train)\n",
    "\n",
    "# Make predictions\n",
    "y_pred = model.predict(X_test_scaled)\n",
    "y_prob = model.predict_proba(X_test_scaled)[:, 1]\n",
    "\n",
    "# Evaluate the model\n",
    "accuracy = accuracy_score(y_test, y_pred)\n",
    "precision = precision_score(y_test, y_pred)\n",
    "recall = recall_score(y_test, y_pred)\n",
    "f1 = f1_score(y_test, y_pred)\n",
    "conf_matrix = confusion_matrix(y_test, y_pred)\n",
    "\n",
    "# Plot confusion matrix\n",
    "plt.figure(figsize=(5, 4))\n",
    "sns.heatmap(conf_matrix, annot=True, fmt=\"d\", cmap=\"Blues\", xticklabels=[\"Not Survived\", \"Survived\"], yticklabels=[\"Not Survived\", \"Survived\"])\n",
    "plt.xlabel(\"Predicted\")\n",
    "plt.ylabel(\"Actual\")\n",
    "plt.title(\"Confusion Matrix\")\n",
    "plt.show()\n",
    "\n",
    "# Plot ROC Curve\n",
    "fpr, tpr, _ = roc_curve(y_test, y_prob)\n",
    "roc_auc = auc(fpr, tpr)\n",
    "\n",
    "plt.figure(figsize=(6, 5))\n",
    "plt.plot(fpr, tpr, color=\"blue\", label=f\"ROC curve (area = {roc_auc:.2f})\")\n",
    "plt.plot([0, 1], [0, 1], color=\"gray\", linestyle=\"--\")\n",
    "plt.xlabel(\"False Positive Rate\")\n",
    "plt.ylabel(\"True Positive Rate\")\n",
    "plt.title(\"Receiver Operating Characteristic (ROC) Curve\")\n",
    "plt.legend(loc=\"lower right\")\n",
    "plt.show()\n",
    "\n",
    "# Output evaluation metrics\n",
    "accuracy, precision, recall, f1, roc_auc\n"
   ]
  }
 ],
 "metadata": {
  "kaggle": {
   "accelerator": "none",
   "dataSources": [
    {
     "datasetId": 1275,
     "sourceId": 2286,
     "sourceType": "datasetVersion"
    }
   ],
   "dockerImageVersionId": 30918,
   "isGpuEnabled": false,
   "isInternetEnabled": false,
   "language": "python",
   "sourceType": "notebook"
  },
  "kernelspec": {
   "display_name": "Python 3",
   "language": "python",
   "name": "python3"
  },
  "language_info": {
   "codemirror_mode": {
    "name": "ipython",
    "version": 3
   },
   "file_extension": ".py",
   "mimetype": "text/x-python",
   "name": "python",
   "nbconvert_exporter": "python",
   "pygments_lexer": "ipython3",
   "version": "3.10.12"
  },
  "papermill": {
   "default_parameters": {},
   "duration": 7.095859,
   "end_time": "2025-03-18T17:32:17.133245",
   "environment_variables": {},
   "exception": null,
   "input_path": "__notebook__.ipynb",
   "output_path": "__notebook__.ipynb",
   "parameters": {},
   "start_time": "2025-03-18T17:32:10.037386",
   "version": "2.6.0"
  }
 },
 "nbformat": 4,
 "nbformat_minor": 5
}
