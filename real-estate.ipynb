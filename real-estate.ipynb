{
 "cells": [
  {
   "cell_type": "code",
   "execution_count": 1,
   "id": "81083b19",
   "metadata": {
    "_cell_guid": "b1076dfc-b9ad-4769-8c92-a6c4dae69d19",
    "_uuid": "8f2839f25d086af736a60e9eeb907d3b93b6e0e5",
    "execution": {
     "iopub.execute_input": "2025-03-15T07:17:46.566180Z",
     "iopub.status.busy": "2025-03-15T07:17:46.565791Z",
     "iopub.status.idle": "2025-03-15T07:17:47.915755Z",
     "shell.execute_reply": "2025-03-15T07:17:47.914104Z"
    },
    "papermill": {
     "duration": 1.357245,
     "end_time": "2025-03-15T07:17:47.917790",
     "exception": false,
     "start_time": "2025-03-15T07:17:46.560545",
     "status": "completed"
    },
    "tags": []
   },
   "outputs": [
    {
     "name": "stdout",
     "output_type": "stream",
     "text": [
      "/kaggle/input/real-estate-dataset/data.csv\n"
     ]
    }
   ],
   "source": [
    "# This Python 3 environment comes with many helpful analytics libraries installed\n",
    "# It is defined by the kaggle/python Docker image: https://github.com/kaggle/docker-python\n",
    "# For example, here's several helpful packages to load\n",
    "\n",
    "import numpy as np # linear algebra\n",
    "import pandas as pd # data processing, CSV file I/O (e.g. pd.read_csv)\n",
    "\n",
    "# Input data files are available in the read-only \"../input/\" directory\n",
    "# For example, running this (by clicking run or pressing Shift+Enter) will list all files under the input directory\n",
    "\n",
    "import os\n",
    "for dirname, _, filenames in os.walk('/kaggle/input'):\n",
    "    for filename in filenames:\n",
    "        print(os.path.join(dirname, filename))\n",
    "\n",
    "# You can write up to 20GB to the current directory (/kaggle/working/) that gets preserved as output when you create a version using \"Save & Run All\" \n",
    "# You can also write temporary files to /kaggle/temp/, but they won't be saved outside of the current session"
   ]
  },
  {
   "cell_type": "code",
   "execution_count": 2,
   "id": "81f8fb51",
   "metadata": {
    "execution": {
     "iopub.execute_input": "2025-03-15T07:17:47.926770Z",
     "iopub.status.busy": "2025-03-15T07:17:47.926135Z",
     "iopub.status.idle": "2025-03-15T07:17:48.004117Z",
     "shell.execute_reply": "2025-03-15T07:17:48.002848Z"
    },
    "papermill": {
     "duration": 0.084879,
     "end_time": "2025-03-15T07:17:48.006536",
     "exception": false,
     "start_time": "2025-03-15T07:17:47.921657",
     "status": "completed"
    },
    "tags": []
   },
   "outputs": [
    {
     "name": "stdout",
     "output_type": "stream",
     "text": [
      "<class 'pandas.core.frame.DataFrame'>\n",
      "RangeIndex: 511 entries, 0 to 510\n",
      "Data columns (total 14 columns):\n",
      " #   Column   Non-Null Count  Dtype  \n",
      "---  ------   --------------  -----  \n",
      " 0   CRIM     511 non-null    float64\n",
      " 1   ZN       511 non-null    float64\n",
      " 2   INDUS    511 non-null    float64\n",
      " 3   CHAS     511 non-null    int64  \n",
      " 4   NOX      511 non-null    float64\n",
      " 5   RM       506 non-null    float64\n",
      " 6   AGE      511 non-null    float64\n",
      " 7   DIS      511 non-null    float64\n",
      " 8   RAD      511 non-null    int64  \n",
      " 9   TAX      511 non-null    int64  \n",
      " 10  PTRATIO  511 non-null    float64\n",
      " 11  B        511 non-null    float64\n",
      " 12  LSTAT    511 non-null    float64\n",
      " 13  MEDV     511 non-null    float64\n",
      "dtypes: float64(11), int64(3)\n",
      "memory usage: 56.0 KB\n"
     ]
    },
    {
     "data": {
      "text/plain": [
       "(None,\n",
       "       CRIM    ZN  INDUS  CHAS    NOX     RM   AGE     DIS  RAD  TAX  PTRATIO  \\\n",
       " 0  0.00632  18.0   2.31     0  0.538  6.575  65.2  4.0900    1  296     15.3   \n",
       " 1  0.02731   0.0   7.07     0  0.469  6.421  78.9  4.9671    2  242     17.8   \n",
       " 2  0.02729   0.0   7.07     0  0.469  7.185  61.1  4.9671    2  242     17.8   \n",
       " 3  0.03237   0.0   2.18     0  0.458  6.998  45.8  6.0622    3  222     18.7   \n",
       " 4  0.06905   0.0   2.18     0  0.458  7.147  54.2  6.0622    3  222     18.7   \n",
       " \n",
       "         B  LSTAT  MEDV  \n",
       " 0  396.90   4.98  24.0  \n",
       " 1  396.90   9.14  21.6  \n",
       " 2  392.83   4.03  34.7  \n",
       " 3  394.63   2.94  33.4  \n",
       " 4  396.90   5.33  36.2  )"
      ]
     },
     "execution_count": 2,
     "metadata": {},
     "output_type": "execute_result"
    }
   ],
   "source": [
    "# Load the dataset\n",
    "file_path = \"/kaggle/input/real-estate-dataset/data.csv\"\n",
    "df = pd.read_csv(file_path)\n",
    "\n",
    "# Display basic info to confirm successful loading\n",
    "df.info(), df.head()"
   ]
  },
  {
   "cell_type": "code",
   "execution_count": 3,
   "id": "be7bca63",
   "metadata": {
    "execution": {
     "iopub.execute_input": "2025-03-15T07:17:48.015410Z",
     "iopub.status.busy": "2025-03-15T07:17:48.015013Z",
     "iopub.status.idle": "2025-03-15T07:17:51.551788Z",
     "shell.execute_reply": "2025-03-15T07:17:51.550512Z"
    },
    "papermill": {
     "duration": 3.543292,
     "end_time": "2025-03-15T07:17:51.553677",
     "exception": false,
     "start_time": "2025-03-15T07:17:48.010385",
     "status": "completed"
    },
    "tags": []
   },
   "outputs": [],
   "source": [
    "import pandas as pd\n",
    "import numpy as np\n",
    "import seaborn as sns\n",
    "import matplotlib.pyplot as plt\n",
    "from sklearn.model_selection import train_test_split\n",
    "from sklearn.svm import SVR\n",
    "from sklearn.preprocessing import StandardScaler\n",
    "from sklearn.tree import DecisionTreeRegressor\n",
    "from sklearn.ensemble import RandomForestRegressor\n",
    "from sklearn.metrics import mean_squared_error, mean_absolute_error, r2_score"
   ]
  },
  {
   "cell_type": "code",
   "execution_count": 4,
   "id": "c30bc003",
   "metadata": {
    "execution": {
     "iopub.execute_input": "2025-03-15T07:17:51.562441Z",
     "iopub.status.busy": "2025-03-15T07:17:51.561915Z",
     "iopub.status.idle": "2025-03-15T07:17:51.576662Z",
     "shell.execute_reply": "2025-03-15T07:17:51.575383Z"
    },
    "papermill": {
     "duration": 0.021048,
     "end_time": "2025-03-15T07:17:51.578480",
     "exception": false,
     "start_time": "2025-03-15T07:17:51.557432",
     "status": "completed"
    },
    "tags": []
   },
   "outputs": [
    {
     "name": "stdout",
     "output_type": "stream",
     "text": [
      "<class 'pandas.core.frame.DataFrame'>\n",
      "RangeIndex: 511 entries, 0 to 510\n",
      "Data columns (total 14 columns):\n",
      " #   Column   Non-Null Count  Dtype  \n",
      "---  ------   --------------  -----  \n",
      " 0   CRIM     511 non-null    float64\n",
      " 1   ZN       511 non-null    float64\n",
      " 2   INDUS    511 non-null    float64\n",
      " 3   CHAS     511 non-null    int64  \n",
      " 4   NOX      511 non-null    float64\n",
      " 5   RM       506 non-null    float64\n",
      " 6   AGE      511 non-null    float64\n",
      " 7   DIS      511 non-null    float64\n",
      " 8   RAD      511 non-null    int64  \n",
      " 9   TAX      511 non-null    int64  \n",
      " 10  PTRATIO  511 non-null    float64\n",
      " 11  B        511 non-null    float64\n",
      " 12  LSTAT    511 non-null    float64\n",
      " 13  MEDV     511 non-null    float64\n",
      "dtypes: float64(11), int64(3)\n",
      "memory usage: 56.0 KB\n"
     ]
    }
   ],
   "source": [
    "# Display basic info\n",
    "df.info()\n",
    "\n",
    "# Check for missing values\n",
    "data = df.dropna()"
   ]
  },
  {
   "cell_type": "code",
   "execution_count": 5,
   "id": "c79c036a",
   "metadata": {
    "execution": {
     "iopub.execute_input": "2025-03-15T07:17:51.587432Z",
     "iopub.status.busy": "2025-03-15T07:17:51.587024Z",
     "iopub.status.idle": "2025-03-15T07:17:51.603589Z",
     "shell.execute_reply": "2025-03-15T07:17:51.602381Z"
    },
    "papermill": {
     "duration": 0.022862,
     "end_time": "2025-03-15T07:17:51.605270",
     "exception": false,
     "start_time": "2025-03-15T07:17:51.582408",
     "status": "completed"
    },
    "tags": []
   },
   "outputs": [
    {
     "name": "stdout",
     "output_type": "stream",
     "text": [
      "CRIM       0\n",
      "ZN         0\n",
      "INDUS      0\n",
      "CHAS       0\n",
      "NOX        0\n",
      "RM         5\n",
      "AGE        0\n",
      "DIS        0\n",
      "RAD        0\n",
      "TAX        0\n",
      "PTRATIO    0\n",
      "B          0\n",
      "LSTAT      0\n",
      "MEDV       0\n",
      "dtype: int64\n"
     ]
    }
   ],
   "source": [
    "# Check for missing values\n",
    "print(df.isnull().sum())\n",
    "\n",
    "# Drop rows with missing values (or use imputation if needed)\n",
    "df = df.dropna()\n",
    "\n",
    "# Encode categorical variables if any\n",
    "df = pd.get_dummies(df, drop_first=True)\n",
    "\n",
    "# Separate features and target\n",
    "X = df.drop(columns=[\"MEDV\"])  # Replace with actual target column\n",
    "y = df[\"MEDV\"]\n",
    "\n",
    "# Normalize features (optional, useful for SVM)\n",
    "scaler = StandardScaler()\n",
    "X_scaled = scaler.fit_transform(X)\n",
    "\n",
    "# Split dataset (80% train, 20% test)\n",
    "X_train, X_test, y_train, y_test = train_test_split(X_scaled, y, test_size=0.2, random_state=42)\n"
   ]
  },
  {
   "cell_type": "code",
   "execution_count": 6,
   "id": "40af64f1",
   "metadata": {
    "execution": {
     "iopub.execute_input": "2025-03-15T07:17:51.614355Z",
     "iopub.status.busy": "2025-03-15T07:17:51.613941Z",
     "iopub.status.idle": "2025-03-15T07:17:51.641725Z",
     "shell.execute_reply": "2025-03-15T07:17:51.640615Z"
    },
    "papermill": {
     "duration": 0.034333,
     "end_time": "2025-03-15T07:17:51.643682",
     "exception": false,
     "start_time": "2025-03-15T07:17:51.609349",
     "status": "completed"
    },
    "tags": []
   },
   "outputs": [],
   "source": [
    "svm_model = SVR()\n",
    "svm_model.fit(X_train, y_train)\n",
    "y_pred_svm = svm_model.predict(X_test)\n"
   ]
  },
  {
   "cell_type": "code",
   "execution_count": 7,
   "id": "46e4897f",
   "metadata": {
    "execution": {
     "iopub.execute_input": "2025-03-15T07:17:51.652812Z",
     "iopub.status.busy": "2025-03-15T07:17:51.652438Z",
     "iopub.status.idle": "2025-03-15T07:17:51.664144Z",
     "shell.execute_reply": "2025-03-15T07:17:51.662993Z"
    },
    "papermill": {
     "duration": 0.018878,
     "end_time": "2025-03-15T07:17:51.666657",
     "exception": false,
     "start_time": "2025-03-15T07:17:51.647779",
     "status": "completed"
    },
    "tags": []
   },
   "outputs": [],
   "source": [
    "dt_model = DecisionTreeRegressor()\n",
    "dt_model.fit(X_train, y_train)\n",
    "y_pred_dt = dt_model.predict(X_test)\n"
   ]
  },
  {
   "cell_type": "code",
   "execution_count": 8,
   "id": "de43a412",
   "metadata": {
    "execution": {
     "iopub.execute_input": "2025-03-15T07:17:51.676644Z",
     "iopub.status.busy": "2025-03-15T07:17:51.675978Z",
     "iopub.status.idle": "2025-03-15T07:17:52.082578Z",
     "shell.execute_reply": "2025-03-15T07:17:52.081408Z"
    },
    "papermill": {
     "duration": 0.413525,
     "end_time": "2025-03-15T07:17:52.084671",
     "exception": false,
     "start_time": "2025-03-15T07:17:51.671146",
     "status": "completed"
    },
    "tags": []
   },
   "outputs": [],
   "source": [
    "rf_model = RandomForestRegressor(n_estimators=100, random_state=42)\n",
    "rf_model.fit(X_train, y_train)\n",
    "y_pred_rf = rf_model.predict(X_test)\n"
   ]
  },
  {
   "cell_type": "code",
   "execution_count": 9,
   "id": "483a5c54",
   "metadata": {
    "execution": {
     "iopub.execute_input": "2025-03-15T07:17:52.093919Z",
     "iopub.status.busy": "2025-03-15T07:17:52.093541Z",
     "iopub.status.idle": "2025-03-15T07:17:52.106984Z",
     "shell.execute_reply": "2025-03-15T07:17:52.105886Z"
    },
    "papermill": {
     "duration": 0.020163,
     "end_time": "2025-03-15T07:17:52.108874",
     "exception": false,
     "start_time": "2025-03-15T07:17:52.088711",
     "status": "completed"
    },
    "tags": []
   },
   "outputs": [
    {
     "name": "stdout",
     "output_type": "stream",
     "text": [
      "Support Vector Machine Performance:\n",
      "Mean Squared Error (MSE): 23.7872\n",
      "Mean Absolute Error (MAE): 2.9757\n",
      "R² Score: 0.6436\n",
      "----------------------------------------\n",
      "Decision Tree Performance:\n",
      "Mean Squared Error (MSE): 23.1710\n",
      "Mean Absolute Error (MAE): 3.0471\n",
      "R² Score: 0.6528\n",
      "----------------------------------------\n",
      "Random Forest Performance:\n",
      "Mean Squared Error (MSE): 14.4365\n",
      "Mean Absolute Error (MAE): 2.4832\n",
      "R² Score: 0.7837\n",
      "----------------------------------------\n"
     ]
    }
   ],
   "source": [
    "def evaluate(y_true, y_pred, model_name):\n",
    "    mse = mean_squared_error(y_true, y_pred)\n",
    "    mae = mean_absolute_error(y_true, y_pred)\n",
    "    r2 = r2_score(y_true, y_pred)\n",
    "    \n",
    "    print(f\"{model_name} Performance:\")\n",
    "    print(f\"Mean Squared Error (MSE): {mse:.4f}\")\n",
    "    print(f\"Mean Absolute Error (MAE): {mae:.4f}\")\n",
    "    print(f\"R² Score: {r2:.4f}\")\n",
    "    print(\"-\" * 40)\n",
    "\n",
    "evaluate(y_test, y_pred_svm, \"Support Vector Machine\")\n",
    "evaluate(y_test, y_pred_dt, \"Decision Tree\")\n",
    "evaluate(y_test, y_pred_rf, \"Random Forest\")\n"
   ]
  },
  {
   "cell_type": "code",
   "execution_count": 10,
   "id": "03a3e156",
   "metadata": {
    "execution": {
     "iopub.execute_input": "2025-03-15T07:17:52.117717Z",
     "iopub.status.busy": "2025-03-15T07:17:52.117378Z",
     "iopub.status.idle": "2025-03-15T07:17:52.141656Z",
     "shell.execute_reply": "2025-03-15T07:17:52.140518Z"
    },
    "papermill": {
     "duration": 0.030678,
     "end_time": "2025-03-15T07:17:52.143472",
     "exception": false,
     "start_time": "2025-03-15T07:17:52.112794",
     "status": "completed"
    },
    "tags": []
   },
   "outputs": [
    {
     "data": {
      "text/html": [
       "<div>\n",
       "<style scoped>\n",
       "    .dataframe tbody tr th:only-of-type {\n",
       "        vertical-align: middle;\n",
       "    }\n",
       "\n",
       "    .dataframe tbody tr th {\n",
       "        vertical-align: top;\n",
       "    }\n",
       "\n",
       "    .dataframe thead th {\n",
       "        text-align: right;\n",
       "    }\n",
       "</style>\n",
       "<table border=\"1\" class=\"dataframe\">\n",
       "  <thead>\n",
       "    <tr style=\"text-align: right;\">\n",
       "      <th></th>\n",
       "      <th>Model</th>\n",
       "      <th>MSE</th>\n",
       "      <th>MAE</th>\n",
       "      <th>R² Score</th>\n",
       "    </tr>\n",
       "  </thead>\n",
       "  <tbody>\n",
       "    <tr>\n",
       "      <th>0</th>\n",
       "      <td>SVM</td>\n",
       "      <td>23.787200</td>\n",
       "      <td>2.975658</td>\n",
       "      <td>0.643593</td>\n",
       "    </tr>\n",
       "    <tr>\n",
       "      <th>1</th>\n",
       "      <td>Decision Tree</td>\n",
       "      <td>23.170980</td>\n",
       "      <td>3.047059</td>\n",
       "      <td>0.652826</td>\n",
       "    </tr>\n",
       "    <tr>\n",
       "      <th>2</th>\n",
       "      <td>Random Forest</td>\n",
       "      <td>14.436525</td>\n",
       "      <td>2.483235</td>\n",
       "      <td>0.783696</td>\n",
       "    </tr>\n",
       "  </tbody>\n",
       "</table>\n",
       "</div>"
      ],
      "text/plain": [
       "           Model        MSE       MAE  R² Score\n",
       "0            SVM  23.787200  2.975658  0.643593\n",
       "1  Decision Tree  23.170980  3.047059  0.652826\n",
       "2  Random Forest  14.436525  2.483235  0.783696"
      ]
     },
     "execution_count": 10,
     "metadata": {},
     "output_type": "execute_result"
    }
   ],
   "source": [
    "results = pd.DataFrame({\n",
    "    \"Model\": [\"SVM\", \"Decision Tree\", \"Random Forest\"],\n",
    "    \"MSE\": [\n",
    "        mean_squared_error(y_test, y_pred_svm),\n",
    "        mean_squared_error(y_test, y_pred_dt),\n",
    "        mean_squared_error(y_test, y_pred_rf),\n",
    "    ],\n",
    "    \"MAE\": [\n",
    "        mean_absolute_error(y_test, y_pred_svm),\n",
    "        mean_absolute_error(y_test, y_pred_dt),\n",
    "        mean_absolute_error(y_test, y_pred_rf),\n",
    "    ],\n",
    "    \"R² Score\": [\n",
    "        r2_score(y_test, y_pred_svm),\n",
    "        r2_score(y_test, y_pred_dt),\n",
    "        r2_score(y_test, y_pred_rf),\n",
    "    ]\n",
    "})\n",
    "\n",
    "results\n"
   ]
  },
  {
   "cell_type": "code",
   "execution_count": 11,
   "id": "fa8b5814",
   "metadata": {
    "execution": {
     "iopub.execute_input": "2025-03-15T07:17:52.153352Z",
     "iopub.status.busy": "2025-03-15T07:17:52.152923Z",
     "iopub.status.idle": "2025-03-15T07:17:52.479558Z",
     "shell.execute_reply": "2025-03-15T07:17:52.478153Z"
    },
    "papermill": {
     "duration": 0.333567,
     "end_time": "2025-03-15T07:17:52.481397",
     "exception": false,
     "start_time": "2025-03-15T07:17:52.147830",
     "status": "completed"
    },
    "tags": []
   },
   "outputs": [
    {
     "data": {
      "image/png": "[encoded data removed]",
      "text/plain": [
       "<Figure size 1200x600 with 1 Axes>"
      ]
     },
     "metadata": {},
     "output_type": "display_data"
    }
   ],
   "source": [
    "plt.figure(figsize=(12, 6))\n",
    "sns.barplot(x=results[\"Model\"], y=results[\"MSE\"], palette=\"viridis\")\n",
    "plt.title(\"Model Comparison - Mean Squared Error\")\n",
    "plt.show()\n"
   ]
  }
 ],
 "metadata": {
  "kaggle": {
   "accelerator": "none",
   "dataSources": [
    {
     "datasetId": 898072,
     "sourceId": 1523358,
     "sourceType": "datasetVersion"
    }
   ],
   "dockerImageVersionId": 30918,
   "isGpuEnabled": false,
   "isInternetEnabled": false,
   "language": "python",
   "sourceType": "notebook"
  },
  "kernelspec": {
   "display_name": "Python 3",
   "language": "python",
   "name": "python3"
  },
  "language_info": {
   "codemirror_mode": {
    "name": "ipython",
    "version": 3
   },
   "file_extension": ".py",
   "mimetype": "text/x-python",
   "name": "python",
   "nbconvert_exporter": "python",
   "pygments_lexer": "ipython3",
   "version": "3.10.12"
  },
  "papermill": {
   "default_parameters": {},
   "duration": 9.983779,
   "end_time": "2025-03-15T07:17:53.205760",
   "environment_variables": {},
   "exception": null,
   "input_path": "__notebook__.ipynb",
   "output_path": "__notebook__.ipynb",
   "parameters": {},
   "start_time": "2025-03-15T07:17:43.221981",
   "version": "2.6.0"
  }
 },
 "nbformat": 4,
 "nbformat_minor": 5
}
