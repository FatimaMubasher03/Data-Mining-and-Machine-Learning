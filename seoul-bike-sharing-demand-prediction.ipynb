{
 "cells": [
  {
   "cell_type": "code",
   "execution_count": 1,
   "id": "d6d1bb80",
   "metadata": {
    "_cell_guid": "b1076dfc-b9ad-4769-8c92-a6c4dae69d19",
    "_uuid": "8f2839f25d086af736a60e9eeb907d3b93b6e0e5",
    "execution": {
     "iopub.execute_input": "2025-03-15T07:35:21.894851Z",
     "iopub.status.busy": "2025-03-15T07:35:21.894452Z",
     "iopub.status.idle": "2025-03-15T07:35:22.888912Z",
     "shell.execute_reply": "2025-03-15T07:35:22.887667Z"
    },
    "papermill": {
     "duration": 1.001364,
     "end_time": "2025-03-15T07:35:22.890793",
     "exception": false,
     "start_time": "2025-03-15T07:35:21.889429",
     "status": "completed"
    },
    "tags": []
   },
   "outputs": [
    {
     "name": "stdout",
     "output_type": "stream",
     "text": [
      "/kaggle/input/seoul-bike-sharing/SeoulBikeData.csv\n"
     ]
    }
   ],
   "source": [
    "# This Python 3 environment comes with many helpful analytics libraries installed\n",
    "# It is defined by the kaggle/python Docker image: https://github.com/kaggle/docker-python\n",
    "# For example, here's several helpful packages to load\n",
    "\n",
    "import numpy as np # linear algebra\n",
    "import pandas as pd # data processing, CSV file I/O (e.g. pd.read_csv)\n",
    "\n",
    "# Input data files are available in the read-only \"../input/\" directory\n",
    "# For example, running this (by clicking run or pressing Shift+Enter) will list all files under the input directory\n",
    "\n",
    "import os\n",
    "for dirname, _, filenames in os.walk('/kaggle/input'):\n",
    "    for filename in filenames:\n",
    "        print(os.path.join(dirname, filename))\n",
    "\n",
    "# You can write up to 20GB to the current directory (/kaggle/working/) that gets preserved as output when you create a version using \"Save & Run All\" \n",
    "# You can also write temporary files to /kaggle/temp/, but they won't be saved outside of the current session"
   ]
  },
  {
   "cell_type": "code",
   "execution_count": 2,
   "id": "ee0bc4ac",
   "metadata": {
    "execution": {
     "iopub.execute_input": "2025-03-15T07:35:22.899110Z",
     "iopub.status.busy": "2025-03-15T07:35:22.898647Z",
     "iopub.status.idle": "2025-03-15T07:35:22.975856Z",
     "shell.execute_reply": "2025-03-15T07:35:22.974665Z"
    },
    "papermill": {
     "duration": 0.083183,
     "end_time": "2025-03-15T07:35:22.977666",
     "exception": false,
     "start_time": "2025-03-15T07:35:22.894483",
     "status": "completed"
    },
    "tags": []
   },
   "outputs": [
    {
     "data": {
      "text/html": [
       "<div>\n",
       "<style scoped>\n",
       "    .dataframe tbody tr th:only-of-type {\n",
       "        vertical-align: middle;\n",
       "    }\n",
       "\n",
       "    .dataframe tbody tr th {\n",
       "        vertical-align: top;\n",
       "    }\n",
       "\n",
       "    .dataframe thead th {\n",
       "        text-align: right;\n",
       "    }\n",
       "</style>\n",
       "<table border=\"1\" class=\"dataframe\">\n",
       "  <thead>\n",
       "    <tr style=\"text-align: right;\">\n",
       "      <th></th>\n",
       "      <th>Date</th>\n",
       "      <th>Rented Bike Count</th>\n",
       "      <th>Hour</th>\n",
       "      <th>Temperature(°C)</th>\n",
       "      <th>Humidity(%)</th>\n",
       "      <th>Wind speed (m/s)</th>\n",
       "      <th>Visibility (10m)</th>\n",
       "      <th>Dew point temperature(°C)</th>\n",
       "      <th>Solar Radiation (MJ/m2)</th>\n",
       "      <th>Rainfall(mm)</th>\n",
       "      <th>Snowfall (cm)</th>\n",
       "      <th>Seasons</th>\n",
       "      <th>Holiday</th>\n",
       "      <th>Functioning Day</th>\n",
       "    </tr>\n",
       "  </thead>\n",
       "  <tbody>\n",
       "    <tr>\n",
       "      <th>0</th>\n",
       "      <td>01/12/2017</td>\n",
       "      <td>254</td>\n",
       "      <td>0</td>\n",
       "      <td>-5.2</td>\n",
       "      <td>37</td>\n",
       "      <td>2.2</td>\n",
       "      <td>2000</td>\n",
       "      <td>-17.6</td>\n",
       "      <td>0.0</td>\n",
       "      <td>0.0</td>\n",
       "      <td>0.0</td>\n",
       "      <td>Winter</td>\n",
       "      <td>No Holiday</td>\n",
       "      <td>Yes</td>\n",
       "    </tr>\n",
       "    <tr>\n",
       "      <th>1</th>\n",
       "      <td>01/12/2017</td>\n",
       "      <td>204</td>\n",
       "      <td>1</td>\n",
       "      <td>-5.5</td>\n",
       "      <td>38</td>\n",
       "      <td>0.8</td>\n",
       "      <td>2000</td>\n",
       "      <td>-17.6</td>\n",
       "      <td>0.0</td>\n",
       "      <td>0.0</td>\n",
       "      <td>0.0</td>\n",
       "      <td>Winter</td>\n",
       "      <td>No Holiday</td>\n",
       "      <td>Yes</td>\n",
       "    </tr>\n",
       "    <tr>\n",
       "      <th>2</th>\n",
       "      <td>01/12/2017</td>\n",
       "      <td>173</td>\n",
       "      <td>2</td>\n",
       "      <td>-6.0</td>\n",
       "      <td>39</td>\n",
       "      <td>1.0</td>\n",
       "      <td>2000</td>\n",
       "      <td>-17.7</td>\n",
       "      <td>0.0</td>\n",
       "      <td>0.0</td>\n",
       "      <td>0.0</td>\n",
       "      <td>Winter</td>\n",
       "      <td>No Holiday</td>\n",
       "      <td>Yes</td>\n",
       "    </tr>\n",
       "    <tr>\n",
       "      <th>3</th>\n",
       "      <td>01/12/2017</td>\n",
       "      <td>107</td>\n",
       "      <td>3</td>\n",
       "      <td>-6.2</td>\n",
       "      <td>40</td>\n",
       "      <td>0.9</td>\n",
       "      <td>2000</td>\n",
       "      <td>-17.6</td>\n",
       "      <td>0.0</td>\n",
       "      <td>0.0</td>\n",
       "      <td>0.0</td>\n",
       "      <td>Winter</td>\n",
       "      <td>No Holiday</td>\n",
       "      <td>Yes</td>\n",
       "    </tr>\n",
       "    <tr>\n",
       "      <th>4</th>\n",
       "      <td>01/12/2017</td>\n",
       "      <td>78</td>\n",
       "      <td>4</td>\n",
       "      <td>-6.0</td>\n",
       "      <td>36</td>\n",
       "      <td>2.3</td>\n",
       "      <td>2000</td>\n",
       "      <td>-18.6</td>\n",
       "      <td>0.0</td>\n",
       "      <td>0.0</td>\n",
       "      <td>0.0</td>\n",
       "      <td>Winter</td>\n",
       "      <td>No Holiday</td>\n",
       "      <td>Yes</td>\n",
       "    </tr>\n",
       "  </tbody>\n",
       "</table>\n",
       "</div>"
      ],
      "text/plain": [
       "         Date  Rented Bike Count  Hour  Temperature(°C)  Humidity(%)  \\\n",
       "0  01/12/2017                254     0             -5.2           37   \n",
       "1  01/12/2017                204     1             -5.5           38   \n",
       "2  01/12/2017                173     2             -6.0           39   \n",
       "3  01/12/2017                107     3             -6.2           40   \n",
       "4  01/12/2017                 78     4             -6.0           36   \n",
       "\n",
       "   Wind speed (m/s)  Visibility (10m)  Dew point temperature(°C)  \\\n",
       "0               2.2              2000                      -17.6   \n",
       "1               0.8              2000                      -17.6   \n",
       "2               1.0              2000                      -17.7   \n",
       "3               0.9              2000                      -17.6   \n",
       "4               2.3              2000                      -18.6   \n",
       "\n",
       "   Solar Radiation (MJ/m2)  Rainfall(mm)  Snowfall (cm) Seasons     Holiday  \\\n",
       "0                      0.0           0.0            0.0  Winter  No Holiday   \n",
       "1                      0.0           0.0            0.0  Winter  No Holiday   \n",
       "2                      0.0           0.0            0.0  Winter  No Holiday   \n",
       "3                      0.0           0.0            0.0  Winter  No Holiday   \n",
       "4                      0.0           0.0            0.0  Winter  No Holiday   \n",
       "\n",
       "  Functioning Day  \n",
       "0             Yes  \n",
       "1             Yes  \n",
       "2             Yes  \n",
       "3             Yes  \n",
       "4             Yes  "
      ]
     },
     "execution_count": 2,
     "metadata": {},
     "output_type": "execute_result"
    }
   ],
   "source": [
    "# Load the dataset\n",
    "file_path = \"/kaggle/input/seoul-bike-sharing/SeoulBikeData.csv\"\n",
    "df = pd.read_csv(file_path, encoding=\"ISO-8859-1\")\n",
    "\n",
    "# Display first few rows\n",
    "df.head()\n"
   ]
  },
  {
   "cell_type": "code",
   "execution_count": 3,
   "id": "a9cc4b58",
   "metadata": {
    "execution": {
     "iopub.execute_input": "2025-03-15T07:35:22.986313Z",
     "iopub.status.busy": "2025-03-15T07:35:22.985931Z",
     "iopub.status.idle": "2025-03-15T07:35:25.685373Z",
     "shell.execute_reply": "2025-03-15T07:35:25.684158Z"
    },
    "papermill": {
     "duration": 2.70592,
     "end_time": "2025-03-15T07:35:25.687398",
     "exception": false,
     "start_time": "2025-03-15T07:35:22.981478",
     "status": "completed"
    },
    "tags": []
   },
   "outputs": [],
   "source": [
    "import numpy as np\n",
    "import pandas as pd\n",
    "import matplotlib.pyplot as plt\n",
    "import seaborn as sns\n",
    "from sklearn.model_selection import train_test_split\n",
    "from sklearn.preprocessing import StandardScaler, OneHotEncoder\n",
    "from sklearn.svm import SVR\n",
    "from sklearn.tree import DecisionTreeRegressor\n",
    "from sklearn.ensemble import RandomForestRegressor\n",
    "from sklearn.metrics import mean_squared_error, mean_absolute_error, r2_score\n",
    "from sklearn.compose import ColumnTransformer\n",
    "from sklearn.pipeline import Pipeline\n"
   ]
  },
  {
   "cell_type": "code",
   "execution_count": 4,
   "id": "1dbffe2e",
   "metadata": {
    "execution": {
     "iopub.execute_input": "2025-03-15T07:35:25.696181Z",
     "iopub.status.busy": "2025-03-15T07:35:25.695663Z",
     "iopub.status.idle": "2025-03-15T07:35:26.190636Z",
     "shell.execute_reply": "2025-03-15T07:35:26.189284Z"
    },
    "papermill": {
     "duration": 0.50222,
     "end_time": "2025-03-15T07:35:26.193375",
     "exception": false,
     "start_time": "2025-03-15T07:35:25.691155",
     "status": "completed"
    },
    "tags": []
   },
   "outputs": [
    {
     "name": "stdout",
     "output_type": "stream",
     "text": [
      "<class 'pandas.core.frame.DataFrame'>\n",
      "RangeIndex: 8760 entries, 0 to 8759\n",
      "Data columns (total 14 columns):\n",
      " #   Column                     Non-Null Count  Dtype  \n",
      "---  ------                     --------------  -----  \n",
      " 0   Date                       8760 non-null   object \n",
      " 1   Rented Bike Count          8760 non-null   int64  \n",
      " 2   Hour                       8760 non-null   int64  \n",
      " 3   Temperature(°C)            8760 non-null   float64\n",
      " 4   Humidity(%)                8760 non-null   int64  \n",
      " 5   Wind speed (m/s)           8760 non-null   float64\n",
      " 6   Visibility (10m)           8760 non-null   int64  \n",
      " 7   Dew point temperature(°C)  8760 non-null   float64\n",
      " 8   Solar Radiation (MJ/m2)    8760 non-null   float64\n",
      " 9   Rainfall(mm)               8760 non-null   float64\n",
      " 10  Snowfall (cm)              8760 non-null   float64\n",
      " 11  Seasons                    8760 non-null   object \n",
      " 12  Holiday                    8760 non-null   object \n",
      " 13  Functioning Day            8760 non-null   object \n",
      "dtypes: float64(6), int64(4), object(4)\n",
      "memory usage: 958.2+ KB\n"
     ]
    },
    {
     "name": "stderr",
     "output_type": "stream",
     "text": [
      "/usr/local/lib/python3.10/dist-packages/seaborn/_oldcore.py:1119: FutureWarning: use_inf_as_na option is deprecated and will be removed in a future version. Convert inf values to NaN before operating instead.\n",
      "  with pd.option_context('mode.use_inf_as_na', True):\n"
     ]
    },
    {
     "data": {
      "image/png": "[encoded data removed]",
      "text/plain": [
       "<Figure size 640x480 with 1 Axes>"
      ]
     },
     "metadata": {},
     "output_type": "display_data"
    }
   ],
   "source": [
    "# Display dataset info\n",
    "df.info()\n",
    "\n",
    "# Check for missing values\n",
    "df.isnull().sum()\n",
    "\n",
    "# Summary statistics\n",
    "df.describe()\n",
    "\n",
    "# Visualize target variable\n",
    "sns.histplot(df[\"Rented Bike Count\"], bins=30, kde=True)\n",
    "plt.title(\"Distribution of Rented Bike Count\")\n",
    "plt.show()\n"
   ]
  },
  {
   "cell_type": "code",
   "execution_count": 5,
   "id": "d1354873",
   "metadata": {
    "execution": {
     "iopub.execute_input": "2025-03-15T07:35:26.207263Z",
     "iopub.status.busy": "2025-03-15T07:35:26.206866Z",
     "iopub.status.idle": "2025-03-15T07:35:26.224748Z",
     "shell.execute_reply": "2025-03-15T07:35:26.223412Z"
    },
    "papermill": {
     "duration": 0.024988,
     "end_time": "2025-03-15T07:35:26.226564",
     "exception": false,
     "start_time": "2025-03-15T07:35:26.201576",
     "status": "completed"
    },
    "tags": []
   },
   "outputs": [
    {
     "data": {
      "text/plain": [
       "((7008, 12), (1752, 12), (7008,), (1752,))"
      ]
     },
     "execution_count": 5,
     "metadata": {},
     "output_type": "execute_result"
    }
   ],
   "source": [
    "# Drop unnecessary columns\n",
    "df = df.drop(columns=[\"Date\"])\n",
    "\n",
    "# Convert categorical features to one-hot encoding\n",
    "categorical_features = [\"Seasons\", \"Holiday\", \"Functioning Day\"]\n",
    "numerical_features = [col for col in df.columns if col not in categorical_features + [\"Rented Bike Count\"]]\n",
    "\n",
    "# Define preprocessing pipeline\n",
    "preprocessor = ColumnTransformer(\n",
    "    transformers=[\n",
    "        (\"num\", StandardScaler(), numerical_features),\n",
    "        (\"cat\", OneHotEncoder(drop=\"first\"), categorical_features),\n",
    "    ]\n",
    ")\n",
    "\n",
    "# Define features and target variable\n",
    "X = df.drop(columns=[\"Rented Bike Count\"])\n",
    "y = df[\"Rented Bike Count\"]\n",
    "\n",
    "# Split dataset (80% train, 20% test)\n",
    "X_train, X_test, y_train, y_test = train_test_split(X, y, test_size=0.2, random_state=42)\n",
    "\n",
    "# Print dataset shapes\n",
    "X_train.shape, X_test.shape, y_train.shape, y_test.shape\n"
   ]
  },
  {
   "cell_type": "code",
   "execution_count": 6,
   "id": "41d3f485",
   "metadata": {
    "execution": {
     "iopub.execute_input": "2025-03-15T07:35:26.237042Z",
     "iopub.status.busy": "2025-03-15T07:35:26.236667Z",
     "iopub.status.idle": "2025-03-15T07:35:29.894639Z",
     "shell.execute_reply": "2025-03-15T07:35:29.893715Z"
    },
    "papermill": {
     "duration": 3.665309,
     "end_time": "2025-03-15T07:35:29.896557",
     "exception": false,
     "start_time": "2025-03-15T07:35:26.231248",
     "status": "completed"
    },
    "tags": []
   },
   "outputs": [],
   "source": [
    "svm_pipeline = Pipeline([\n",
    "    (\"preprocessor\", preprocessor),\n",
    "    (\"regressor\", SVR(kernel=\"rbf\"))\n",
    "])\n",
    "\n",
    "# Train SVM model\n",
    "svm_pipeline.fit(X_train, y_train)\n",
    "\n",
    "# Predict on test set\n",
    "y_pred_svm = svm_pipeline.predict(X_test)\n"
   ]
  },
  {
   "cell_type": "code",
   "execution_count": 7,
   "id": "da9a1e3f",
   "metadata": {
    "execution": {
     "iopub.execute_input": "2025-03-15T07:35:29.907318Z",
     "iopub.status.busy": "2025-03-15T07:35:29.906906Z",
     "iopub.status.idle": "2025-03-15T07:35:29.990462Z",
     "shell.execute_reply": "2025-03-15T07:35:29.989513Z"
    },
    "papermill": {
     "duration": 0.090955,
     "end_time": "2025-03-15T07:35:29.992324",
     "exception": false,
     "start_time": "2025-03-15T07:35:29.901369",
     "status": "completed"
    },
    "tags": []
   },
   "outputs": [],
   "source": [
    "dt_pipeline = Pipeline([\n",
    "    (\"preprocessor\", preprocessor),\n",
    "    (\"regressor\", DecisionTreeRegressor(random_state=42))\n",
    "])\n",
    "\n",
    "# Train Decision Tree model\n",
    "dt_pipeline.fit(X_train, y_train)\n",
    "\n",
    "# Predict on test set\n",
    "y_pred_dt = dt_pipeline.predict(X_test)\n"
   ]
  },
  {
   "cell_type": "code",
   "execution_count": 8,
   "id": "7a333c9f",
   "metadata": {
    "execution": {
     "iopub.execute_input": "2025-03-15T07:35:30.003323Z",
     "iopub.status.busy": "2025-03-15T07:35:30.002932Z",
     "iopub.status.idle": "2025-03-15T07:35:33.616621Z",
     "shell.execute_reply": "2025-03-15T07:35:33.615487Z"
    },
    "papermill": {
     "duration": 3.621667,
     "end_time": "2025-03-15T07:35:33.618653",
     "exception": false,
     "start_time": "2025-03-15T07:35:29.996986",
     "status": "completed"
    },
    "tags": []
   },
   "outputs": [],
   "source": [
    "rf_pipeline = Pipeline([\n",
    "    (\"preprocessor\", preprocessor),\n",
    "    (\"regressor\", RandomForestRegressor(n_estimators=100, random_state=42))\n",
    "])\n",
    "\n",
    "# Train Random Forest model\n",
    "rf_pipeline.fit(X_train, y_train)\n",
    "\n",
    "# Predict on test set\n",
    "y_pred_rf = rf_pipeline.predict(X_test)\n"
   ]
  },
  {
   "cell_type": "code",
   "execution_count": 9,
   "id": "b76a6210",
   "metadata": {
    "execution": {
     "iopub.execute_input": "2025-03-15T07:35:33.629232Z",
     "iopub.status.busy": "2025-03-15T07:35:33.628821Z",
     "iopub.status.idle": "2025-03-15T07:35:33.644580Z",
     "shell.execute_reply": "2025-03-15T07:35:33.643226Z"
    },
    "papermill": {
     "duration": 0.02309,
     "end_time": "2025-03-15T07:35:33.646497",
     "exception": false,
     "start_time": "2025-03-15T07:35:33.623407",
     "status": "completed"
    },
    "tags": []
   },
   "outputs": [
    {
     "name": "stdout",
     "output_type": "stream",
     "text": [
      "Support Vector Machine Performance:\n",
      "Mean Squared Error (MSE): 269496.0144\n",
      "Mean Absolute Error (MAE): 351.3648\n",
      "R² Score: 0.3532\n",
      "----------------------------------------\n",
      "Decision Tree Performance:\n",
      "Mean Squared Error (MSE): 116119.1832\n",
      "Mean Absolute Error (MAE): 193.8408\n",
      "R² Score: 0.7213\n",
      "----------------------------------------\n",
      "Random Forest Performance:\n",
      "Mean Squared Error (MSE): 57754.4747\n",
      "Mean Absolute Error (MAE): 144.6059\n",
      "R² Score: 0.8614\n",
      "----------------------------------------\n"
     ]
    }
   ],
   "source": [
    "def evaluate(y_true, y_pred, model_name):\n",
    "    mse = mean_squared_error(y_true, y_pred)\n",
    "    mae = mean_absolute_error(y_true, y_pred)\n",
    "    r2 = r2_score(y_true, y_pred)\n",
    "    \n",
    "    print(f\"{model_name} Performance:\")\n",
    "    print(f\"Mean Squared Error (MSE): {mse:.4f}\")\n",
    "    print(f\"Mean Absolute Error (MAE): {mae:.4f}\")\n",
    "    print(f\"R² Score: {r2:.4f}\")\n",
    "    print(\"-\" * 40)\n",
    "    \n",
    "    return {\"Model\": model_name, \"MSE\": mse, \"MAE\": mae, \"R² Score\": r2}\n",
    "\n",
    "# Evaluate all models\n",
    "results = []\n",
    "results.append(evaluate(y_test, y_pred_svm, \"Support Vector Machine\"))\n",
    "results.append(evaluate(y_test, y_pred_dt, \"Decision Tree\"))\n",
    "results.append(evaluate(y_test, y_pred_rf, \"Random Forest\"))\n"
   ]
  },
  {
   "cell_type": "code",
   "execution_count": 10,
   "id": "b47c6e57",
   "metadata": {
    "execution": {
     "iopub.execute_input": "2025-03-15T07:35:33.657523Z",
     "iopub.status.busy": "2025-03-15T07:35:33.657061Z",
     "iopub.status.idle": "2025-03-15T07:35:33.668783Z",
     "shell.execute_reply": "2025-03-15T07:35:33.667640Z"
    },
    "papermill": {
     "duration": 0.019057,
     "end_time": "2025-03-15T07:35:33.670599",
     "exception": false,
     "start_time": "2025-03-15T07:35:33.651542",
     "status": "completed"
    },
    "tags": []
   },
   "outputs": [
    {
     "data": {
      "text/html": [
       "<div>\n",
       "<style scoped>\n",
       "    .dataframe tbody tr th:only-of-type {\n",
       "        vertical-align: middle;\n",
       "    }\n",
       "\n",
       "    .dataframe tbody tr th {\n",
       "        vertical-align: top;\n",
       "    }\n",
       "\n",
       "    .dataframe thead th {\n",
       "        text-align: right;\n",
       "    }\n",
       "</style>\n",
       "<table border=\"1\" class=\"dataframe\">\n",
       "  <thead>\n",
       "    <tr style=\"text-align: right;\">\n",
       "      <th></th>\n",
       "      <th>Model</th>\n",
       "      <th>MSE</th>\n",
       "      <th>MAE</th>\n",
       "      <th>R² Score</th>\n",
       "    </tr>\n",
       "  </thead>\n",
       "  <tbody>\n",
       "    <tr>\n",
       "      <th>0</th>\n",
       "      <td>Support Vector Machine</td>\n",
       "      <td>269496.014428</td>\n",
       "      <td>351.364787</td>\n",
       "      <td>0.353178</td>\n",
       "    </tr>\n",
       "    <tr>\n",
       "      <th>1</th>\n",
       "      <td>Decision Tree</td>\n",
       "      <td>116119.183219</td>\n",
       "      <td>193.840753</td>\n",
       "      <td>0.721300</td>\n",
       "    </tr>\n",
       "    <tr>\n",
       "      <th>2</th>\n",
       "      <td>Random Forest</td>\n",
       "      <td>57754.474749</td>\n",
       "      <td>144.605890</td>\n",
       "      <td>0.861382</td>\n",
       "    </tr>\n",
       "  </tbody>\n",
       "</table>\n",
       "</div>"
      ],
      "text/plain": [
       "                    Model            MSE         MAE  R² Score\n",
       "0  Support Vector Machine  269496.014428  351.364787  0.353178\n",
       "1           Decision Tree  116119.183219  193.840753  0.721300\n",
       "2           Random Forest   57754.474749  144.605890  0.861382"
      ]
     },
     "execution_count": 10,
     "metadata": {},
     "output_type": "execute_result"
    }
   ],
   "source": [
    "# Convert results to DataFrame\n",
    "results_df = pd.DataFrame(results)\n",
    "\n",
    "# Display results\n",
    "results_df\n"
   ]
  },
  {
   "cell_type": "code",
   "execution_count": 11,
   "id": "055fcc18",
   "metadata": {
    "execution": {
     "iopub.execute_input": "2025-03-15T07:35:33.681457Z",
     "iopub.status.busy": "2025-03-15T07:35:33.681011Z",
     "iopub.status.idle": "2025-03-15T07:35:33.945582Z",
     "shell.execute_reply": "2025-03-15T07:35:33.944500Z"
    },
    "papermill": {
     "duration": 0.271782,
     "end_time": "2025-03-15T07:35:33.947322",
     "exception": false,
     "start_time": "2025-03-15T07:35:33.675540",
     "status": "completed"
    },
    "tags": []
   },
   "outputs": [
    {
     "data": {
      "image/png": "[encoded data removed]",
      "text/plain": [
       "<Figure size 1000x500 with 1 Axes>"
      ]
     },
     "metadata": {},
     "output_type": "display_data"
    }
   ],
   "source": [
    "# Plot comparison\n",
    "plt.figure(figsize=(10, 5))\n",
    "sns.barplot(x=results_df[\"Model\"], y=results_df[\"MSE\"], palette=\"viridis\")\n",
    "plt.title(\"Model Comparison - Mean Squared Error\")\n",
    "plt.ylabel(\"MSE\")\n",
    "plt.show()\n"
   ]
  }
 ],
 "metadata": {
  "kaggle": {
   "accelerator": "none",
   "dataSources": [
    {
     "datasetId": 3807208,
     "sourceId": 6598232,
     "sourceType": "datasetVersion"
    }
   ],
   "dockerImageVersionId": 30918,
   "isGpuEnabled": false,
   "isInternetEnabled": false,
   "language": "python",
   "sourceType": "notebook"
  },
  "kernelspec": {
   "display_name": "Python 3",
   "language": "python",
   "name": "python3"
  },
  "language_info": {
   "codemirror_mode": {
    "name": "ipython",
    "version": 3
   },
   "file_extension": ".py",
   "mimetype": "text/x-python",
   "name": "python",
   "nbconvert_exporter": "python",
   "pygments_lexer": "ipython3",
   "version": "3.10.12"
  },
  "papermill": {
   "default_parameters": {},
   "duration": 15.777647,
   "end_time": "2025-03-15T07:35:34.773782",
   "environment_variables": {},
   "exception": null,
   "input_path": "__notebook__.ipynb",
   "output_path": "__notebook__.ipynb",
   "parameters": {},
   "start_time": "2025-03-15T07:35:18.996135",
   "version": "2.6.0"
  }
 },
 "nbformat": 4,
 "nbformat_minor": 5
}
